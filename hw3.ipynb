{
 "cells": [
  {
   "cell_type": "code",
   "execution_count": 2,
   "metadata": {},
   "outputs": [],
   "source": [
    "import math\n",
    "import pandas as pd\n",
    "import numpy as np\n",
    "from sklearn.model_selection import train_test_split\n",
    "import matplotlib.pyplot as plt\n",
    "from collections import defaultdict,Counter\n",
    "from random import sample"
   ]
  },
  {
   "cell_type": "code",
   "execution_count": 3,
   "metadata": {},
   "outputs": [],
   "source": [
    "class DecisionNode():\n",
    "    '''\n",
    "    Constructor for decision node\n",
    "    attr - attribute to be tested on\n",
    "    thresh - threshold for numerical attr, if categorical set to none\n",
    "    children - dict mapping attr value to child, if numeric child keys are 'le' and 'gr'\n",
    "    label - class label. default None, if not none, indicates that this is a leaf\n",
    "    '''\n",
    "    def __init__(self, attr, children, label=None, thresh=None):\n",
    "        self.attr = attr\n",
    "        self.children = children\n",
    "        self.label = label\n",
    "        self.thresh = thresh\n",
    "\n",
    "def learn_tree(data,attr_list,do_ig,attr_vals,targets,min_size_split=0,min_gain=0.0,max_depth=-1,maj_prop=1.0):\n",
    "    '''\n",
    "    Function to create decision tree based on data\n",
    "    do_ig - boolean, True to use info gain, False to use gini critereon\n",
    "    attr_vals - dict, maps to array of possible values for each attr, empty if numeric\n",
    "    targets - array, possible values for target class\n",
    "    min_size_split - int, min number of instances required in data before returning a leaf node\n",
    "    min_gain - float, min info gain to determine when to stop\n",
    "    max_depth - int, if -1 no depth limit, else maximum depth before stopping \n",
    "    '''\n",
    "    #if num data too small, return leaf\n",
    "    if len(data) <= min_size_split:\n",
    "        return DecisionNode(None,None,data['class'].mode()[0],None)\n",
    "    #if max depth reached, return leaf\n",
    "    if max_depth == 0:\n",
    "        return DecisionNode(None,None,data['class'].mode()[0],None)\n",
    "\n",
    "    if (data['class'].value_counts().iloc[0]/len(data)) >= maj_prop:\n",
    "        return DecisionNode(None,None,data['class'].mode()[0],None)\n",
    "\n",
    "    #find best attr from list using info gain\n",
    "    max_gain = float('-inf')\n",
    "    min_gini = float('inf')\n",
    "    best_attr = ''\n",
    "\n",
    "    random_attr = sample(attr_list,math.ceil(math.sqrt(len(attr_list))))\n",
    "\n",
    "    for attr in random_attr:\n",
    "        if do_ig:\n",
    "            ig_attr,thresh = get_info_gain(data,attr,attr_vals[attr],targets)\n",
    "            if ig_attr > max_gain:\n",
    "                max_gain = ig_attr\n",
    "                best_attr = attr\n",
    "                best_thresh = thresh\n",
    "        else:\n",
    "            gini_attr = get_critereon(data,attr)\n",
    "            if gini_attr < min_gini:\n",
    "                min_gini = gini_attr\n",
    "                best_attr = attr\n",
    "\n",
    "    if best_attr == '':\n",
    "        return DecisionNode(None,None,data['class'].mode()[0],None)\n",
    "\n",
    "    best_vals = attr_vals[best_attr]\n",
    "    best_children = defaultdict(lambda: DecisionNode(None,None,data['class'].mode()[0],None))\n",
    "    \n",
    "    #if numeric attr\n",
    "    if len(best_vals) == 0:\n",
    "        best_children['le'] = learn_tree(data.loc[data[best_attr] <= best_thresh],attr_list,do_ig,attr_vals,targets,min_size_split,max_gain,max_depth-1,maj_prop) if len(data.loc[data[best_attr] <= best_thresh]) > 0 else DecisionNode(None,None,data['class'].mode()[0],None)\n",
    "        best_children['gr'] = learn_tree(data.loc[data[best_attr] > best_thresh],attr_list,do_ig,attr_vals,targets,min_size_split,max_gain,max_depth-1,maj_prop) if len(data.loc[data[best_attr] > best_thresh]) > 0 else DecisionNode(None,None,data['class'].mode()[0],None)\n",
    "    \n",
    "    else:\n",
    "        for i in best_vals:\n",
    "            next_child = learn_tree(data.loc[data[best_attr] == i],attr_list,do_ig,attr_vals,targets,min_size_split,max_gain,max_depth-1,maj_prop) if len(data.loc[data[best_attr] == i]) > 0 else DecisionNode(None,None,data['class'].mode()[0],None)\n",
    "            best_children[i] = next_child\n",
    "            \n",
    "    return DecisionNode(best_attr,best_children,thresh=best_thresh)\n",
    "\n",
    "\n",
    "#Helper functions for decision tree\n",
    "def get_info_gain(data,attr,num_cat,targets):\n",
    "    split_entropy = 0\n",
    "    if len(num_cat) > 0:\n",
    "        best_split = None\n",
    "        for i in num_cat:\n",
    "            split_data = data.loc[data[attr] == i]\n",
    "            split_entropy += (entropy(split_data,targets)*len(split_data))/len(data)\n",
    "    else:\n",
    "        best_split = data[attr].mean()\n",
    "        split_entropy += split_thresh(data,attr,best_split,targets)\n",
    "\n",
    "    return (entropy(data,targets) - split_entropy),best_split\n",
    "\n",
    "#determine split threshhold for numeric attr\n",
    "def split_thresh(data,attr,thresh,targets):\n",
    "    if math.isnan(thresh):\n",
    "        return entropy(data,targets)\n",
    "    df_le = data.loc[data[attr] <= thresh]\n",
    "    df_g = data.loc[data[attr] > thresh]\n",
    "    return (entropy(df_le,targets)*len(df_le) + entropy(df_g,targets)*len(df_g))/len(data)\n",
    "\n",
    "def entropy(data,targets):\n",
    "    if len(data) == 0:\n",
    "        return 0\n",
    "    ent = 0\n",
    "    for i in range(len(targets)):\n",
    "        try:\n",
    "            prob_i = data['class'].value_counts().iloc[i]/len(data)\n",
    "            ent -= (prob_i * math.log(prob_i,2))\n",
    "        except:\n",
    "            pass\n",
    "    return ent\n",
    "\n",
    "#function to classify an instance based on decision tree\n",
    "def classify(instance,node):\n",
    "    while node.label is None:\n",
    "        if node.thresh is None:\n",
    "            node = node.children[instance[node.attr]]\n",
    "        else:\n",
    "            node = node.children['le'] if instance[node.attr] <= node.thresh else node.children['gr']\n",
    "    guess = node.label\n",
    "    return guess\n",
    "\n",
    "#wrapper fucntion for classify which takes all trees in forest, takes majority output and returns that guess\n",
    "def ntree_classify(instance,ntree):\n",
    "    votes = []\n",
    "    for tree in ntree:\n",
    "        votes.append(classify(instance,tree))\n",
    "    count = Counter(votes)\n",
    "    return count.most_common(1)[0][0]\n",
    "\n",
    "#test accuracy on test data\n",
    "def test_decision(to_test,targs,ntrees):\n",
    "    predictions = pd.DataFrame(to_test.apply(lambda row: ntree_classify(row,ntrees), axis=1),columns = ['class'])\n",
    "    predictions['actual'] = to_test.loc[predictions.index,['class']]\n",
    "    prec,rec,f1 = [0,0,0]\n",
    "\n",
    "    for val in targs:\n",
    "        is_targ = predictions[predictions['class'] == val]\n",
    "        not_targ = predictions[predictions['class'] != val]\n",
    "        tp = len(is_targ[is_targ['class'] == is_targ['actual']])\n",
    "        fp = len(is_targ[is_targ['class'] != is_targ['actual']])\n",
    "        fn = len(not_targ[not_targ['actual'] == val])\n",
    "        tn = len(not_targ[not_targ['actual'] != val])\n",
    "        this_prec = (tp/(tp+fp)) if (tp+fp) > 0 else 0\n",
    "        this_rec = (tp/(tp+fn)) if (tp+fn) > 0 else 0\n",
    "        f1 += (this_prec*this_rec*2)/(this_rec+this_prec) if (this_rec+this_prec) > 0 else 0\n",
    "        prec += this_prec\n",
    "        rec += this_rec\n",
    "\n",
    "    avg_prec = prec/len(targs)\n",
    "    avg_rec = rec/len(targs)\n",
    "    avg_f1 = f1/len(targs)\n",
    "    accuracy = len(predictions[predictions['class'] == predictions['actual']])/len(to_test)\n",
    "    return [accuracy,avg_prec,avg_rec,avg_f1]\n",
    "\n",
    "np.random.seed(1)\n",
    "k = 10\n",
    "nvals = [1,5,10,20,30,40,50]\n",
    "#function to do cross fold validation\n",
    "def k_fold(fold,attr_list,attr_vals,targets,max_depth=7,min_size_split=10,maj_prop=0.9):\n",
    "    #maps n vals to list of average statistics for each \n",
    "    fold_metrics = defaultdict(list)\n",
    "    #iterate through folds, taking turns being test fold\n",
    "    for i in range(k):\n",
    "        test_fold = fold[i]\n",
    "        train_fold = fold[0:i]\n",
    "        train_fold.extend(fold[i+1:len(fold)])\n",
    "        train_data = pd.concat(train_fold)\n",
    "        #vary number of trees for this fold\n",
    "        for n in nvals:\n",
    "            #list to store decisions of each tree by index\n",
    "            ntree = []\n",
    "            for j in range(n):\n",
    "                #generate bootstrap w replacment\n",
    "                bootstrap = train_data.sample(frac=1,replace=True)\n",
    "                ntree.append(learn_tree(bootstrap,attr_list,True,attr_vals,targets,max_depth,min_size_split,maj_prop))\n",
    "            fold_metrics[n].append(test_decision(test_fold,targets,ntree))\n",
    "    return fold_metrics"
   ]
  },
  {
   "attachments": {},
   "cell_type": "markdown",
   "metadata": {},
   "source": [
    "## Notes:\n",
    "\n",
    "### Stopping Criteria\n",
    "- **max_depth**: the maximum depth of which a tree may go\n",
    "- **min_size_split**: the minimum number of instances in a dataset before creating a leaf node\n",
    "- **maj_prop**: if a dataset has instances of a target class >= this proportion, create a leaf node, this metric was used in HW1\n",
    "\n",
    "### Performance Statistics\n",
    "- Calculation of performance statistics can be seen in the ```test_decision``` function on line 127\n",
    "- For recall, precision and F1 I calculated TP,FP,FN,TN for each target class, calculated scores for these values and then took the average across classes\n",
    "- For accuracy, I simply took the number of correctly labeled instances / total, regardless of class\n",
    "\n",
    "### General Implementation\n",
    "- I decided to use the weak numerical threshold for splitting (average value of attribute for given dataset)\n",
    "- K = 10 for cross fold validation"
   ]
  },
  {
   "attachments": {},
   "cell_type": "markdown",
   "metadata": {},
   "source": [
    "## 1. Wine Dataset"
   ]
  },
  {
   "cell_type": "code",
   "execution_count": 154,
   "metadata": {},
   "outputs": [],
   "source": [
    "wine_df = pd.read_csv('datasets/hw3_wine.csv',delim_whitespace=True)\n",
    "wine_attr = defaultdict(list)\n",
    "attr_list = list(wine_df.columns.values)\n",
    "attr_list.remove('class')\n",
    "wine_targets = [1,2,3]\n",
    "\n",
    "#split data by class into k groups then combine into folds\n",
    "wine_class_1 = wine_df.loc[wine_df['class'] == 1].sample(frac=1)\n",
    "wc1_split = np.array_split(wine_class_1,k)\n",
    "wine_class_2 = wine_df.loc[wine_df['class'] == 2].sample(frac=1)\n",
    "wc2_split = np.array_split(wine_class_2,k)\n",
    "wine_class_3 = wine_df.loc[wine_df['class'] == 3].sample(frac=1)\n",
    "wc3_split = np.array_split(wine_class_3,k)\n",
    "\n",
    "#list to hold folds\n",
    "wine_fold = []\n",
    "for i in range(k):\n",
    "    this_fold = [wc1_split[i],wc2_split[i],wc3_split[i]]\n",
    "    wine_fold.append(pd.concat(this_fold))\n",
    "\n",
    "fold_metrics_wine = k_fold(wine_fold,attr_list,wine_attr,wine_targets,max_depth=7,min_size_split=10,maj_prop=0.875)\n",
    "n_acc = []\n",
    "n_prec = []\n",
    "n_rec = []\n",
    "n_f1 = []\n",
    "\n",
    "for n,perf in fold_metrics_wine.items():\n",
    "    avg_accuracy,avg_prec,avg_rec,avg_f1 = [0,0,0,0]\n",
    "    for res in perf:\n",
    "        avg_accuracy += res[0]\n",
    "        avg_prec += res[1]\n",
    "        avg_rec += res[2]\n",
    "        avg_f1 += res[3]\n",
    "    n_acc.append(avg_accuracy/10)\n",
    "    n_prec.append(avg_prec/10)\n",
    "    n_rec.append(avg_rec/10)\n",
    "    n_f1.append(avg_f1/10)"
   ]
  },
  {
   "attachments": {},
   "cell_type": "markdown",
   "metadata": {},
   "source": [
    "**1.3**  For each of the metrics described above, show a graph where\n",
    "you show the value of ntree on the x-axis, and where you show the value of the corresponding\n",
    "metric on the y-axis"
   ]
  },
  {
   "cell_type": "code",
   "execution_count": 157,
   "metadata": {},
   "outputs": [
    {
     "data": {
      "image/png": "[encoded data removed]",
      "text/plain": [
       "<Figure size 432x288 with 1 Axes>"
      ]
     },
     "metadata": {
      "needs_background": "light"
     },
     "output_type": "display_data"
    }
   ],
   "source": [
    "plt.title('Performance vs Ntrees for Wine Data')\n",
    "plt.xlabel('Number of Trees')\n",
    "plt.ylabel('Performance')\n",
    "plt.plot(nvals,n_acc,label='Accuracy',marker='o')\n",
    "plt.plot(nvals,n_prec,label='Precision',marker='o')\n",
    "plt.plot(nvals,n_rec,label='Recall',marker='o')\n",
    "plt.plot(nvals,n_f1,label='Macro F1',marker='o')\n",
    "plt.legend()\n",
    "plt.text(5,0.84,'max_depth=7, min_size_split=10, maj_prop=0.875')\n",
    "plt.show()"
   ]
  },
  {
   "attachments": {},
   "cell_type": "markdown",
   "metadata": {},
   "source": [
    "**1.4** For each metric being evaluated, discuss which value of ntree you would\n",
    "select if you were to deploy this classifier in real life. Explain your reasoning.\n",
    "\n",
    "> In this case, I would choose N = 20 if I valued high precision, accuracy, and F1, as these values are maximized at N = 20. If i instead cared about recall, I would choose N = 40.\n",
    "\n",
    "**1.5** Discuss (on a high level) which metrics were more directly affected by changing the value of\n",
    "ntree and, more generally, how such changes affected the performance of your algorithm. For\n",
    "instance: was the accuracy of the random forest particularly sensitive to increasing ntree past a\n",
    "given value? Was the F1 score a “harder” metric to optimize, possibly requiring a significant\n",
    "number of trees in the ensemble? Is there a point beyond which adding more trees does not\n",
    "improve performance—or makes the performance worse?\n",
    "\n",
    "> It seems that for values of N > 20 precision falls while recall rises. While this is not always the case, over many runs F1 is generally stable for values of N > 10, making it hard to optimize for N past a certain upper limit. In general, increasing forests to N > 10 increases all performance metrics considerably, however they may peak before N = 50."
   ]
  },
  {
   "attachments": {},
   "cell_type": "markdown",
   "metadata": {},
   "source": [
    "## 2. House Votes Dataset"
   ]
  },
  {
   "cell_type": "code",
   "execution_count": 162,
   "metadata": {},
   "outputs": [],
   "source": [
    "house_df = pd.read_csv('datasets/hw3_house_votes_84.csv')\n",
    "#house_attr = defaultdict(lambda: [0,1,2])\n",
    "house_attr_list = list(house_df.columns.values)\n",
    "house_attr_list.remove('class')\n",
    "house_attr = {key: [0,1,2] for key in house_attr_list}\n",
    "house_targets = [0,1]\n",
    "#split data by class into k groups then combine into folds\n",
    "house_class_1 = house_df.loc[house_df['class'] == 0].sample(frac=1)\n",
    "hc1_split = np.array_split(house_class_1,k)\n",
    "house_class_2 = house_df.loc[house_df['class'] == 1].sample(frac=1)\n",
    "hc2_split = np.array_split(house_class_2,k)\n",
    "\n",
    "#list to hold folds\n",
    "house_fold = []\n",
    "for i in range(k):\n",
    "    this_fold = [hc1_split[i],hc2_split[i]]\n",
    "    house_fold.append(pd.concat(this_fold))\n",
    "\n",
    "fold_metrics_house = k_fold(house_fold,house_attr_list,house_attr,house_targets,max_depth=8,min_size_split=25,maj_prop=0.875)\n",
    "n_acc = []\n",
    "n_prec = []\n",
    "n_rec = []\n",
    "n_f1 = []\n",
    "\n",
    "for n,perf in fold_metrics_house.items():\n",
    "    avg_accuracy,avg_prec,avg_rec,avg_f1 = [0,0,0,0]\n",
    "    for res in perf:\n",
    "        avg_accuracy += res[0]\n",
    "        avg_prec += res[1]\n",
    "        avg_rec += res[2]\n",
    "        avg_f1 += res[3]\n",
    "    n_acc.append(avg_accuracy/10)\n",
    "    n_prec.append(avg_prec/10)\n",
    "    n_rec.append(avg_rec/10)\n",
    "    n_f1.append(avg_f1/10)"
   ]
  },
  {
   "attachments": {},
   "cell_type": "markdown",
   "metadata": {},
   "source": [
    "**1.3**  For each of the metrics described above, show a graph where\n",
    "you show the value of ntree on the x-axis, and where you show the value of the corresponding\n",
    "metric on the y-axis"
   ]
  },
  {
   "cell_type": "code",
   "execution_count": 146,
   "metadata": {},
   "outputs": [
    {
     "data": {
      "image/png": "[encoded data removed]",
      "text/plain": [
       "<Figure size 432x288 with 1 Axes>"
      ]
     },
     "metadata": {
      "needs_background": "light"
     },
     "output_type": "display_data"
    },
    {
     "data": {
      "text/plain": [
       "<Figure size 72x2160 with 0 Axes>"
      ]
     },
     "metadata": {},
     "output_type": "display_data"
    }
   ],
   "source": [
    "plt.title('Performance vs Ntrees for House Votes')\n",
    "plt.xlabel('Number of Trees')\n",
    "plt.ylabel('Performance')\n",
    "plt.plot(nvals,n_acc,label='Accuracy',marker='o')\n",
    "plt.plot(nvals,n_prec,label='Precision',marker='o')\n",
    "plt.plot(nvals,n_rec,label='Recall',marker='o')\n",
    "plt.plot(nvals,n_f1,label='Macro F1',marker='o')\n",
    "plt.legend()\n",
    "plt.text(5,0.885,'max_depth=8, min_size_split=25, maj_prop=0.875')\n",
    "plt.figure(figsize=(1,30))\n",
    "plt.show()"
   ]
  },
  {
   "attachments": {},
   "cell_type": "markdown",
   "metadata": {},
   "source": [
    "**2.4** For each metric being evaluated, discuss which value of ntree you would\n",
    "select if you were to deploy this classifier in real life. Explain your reasoning.\n",
    "\n",
    "> In this case, choosing N = 50 maximizes all perfmormance metrics, because of this I would use a forest with N = 50 in real deployment.\n",
    "\n",
    "**2.5** Discuss (on a high level) which metrics were more directly affected by changing the value of\n",
    "ntree and, more generally, how such changes affected the performance of your algorithm. For\n",
    "instance: was the accuracy of the random forest particularly sensitive to increasing ntree past a\n",
    "given value? Was the F1 score a “harder” metric to optimize, possibly requiring a significant\n",
    "number of trees in the ensemble? Is there a point beyond which adding more trees does not\n",
    "improve performance—or makes the performance worse?\n",
    "\n",
    "> In general, N > 1 yields a higher performance on all metrics considerably. For these forest, F1 and accuracy remain relatively stable while precision may jump and recall decrease for increasing values of N. This dataset seems to show far more variation in performance metrics across multiple runs of cross validation.\n",
    "\n",
    "**(Extra Points #2: 8 Points)** Analyze a third dataset: the Breast Cancer Dataset. The goal,\n",
    "here, is to classify whether tissue removed via a biopsy indicates whether a person may or may not\n",
    "have breast cancer. There are 699 instances in this dataset. Each instance is described by 9 numerical\n",
    "attributes, and there are 2 classes. You should present the same analyses and graphs as discussed\n",
    "above. This dataset can be found in the same zip file as the two main datasets."
   ]
  },
  {
   "cell_type": "code",
   "execution_count": 276,
   "metadata": {},
   "outputs": [],
   "source": [
    "cancer_df = pd.read_csv('datasets/hw3_cancer.csv',delim_whitespace=True)\n",
    "cancer_attr = defaultdict(list)\n",
    "attr_list = list(cancer_df.columns.values)\n",
    "attr_list.remove('class')\n",
    "cancer_targets = [0,1]\n",
    "\n",
    "#split data by class into k groups then combine into folds\n",
    "cancer_class_1 = cancer_df.loc[cancer_df['class'] == 0].sample(frac=1)\n",
    "c1_split = np.array_split(cancer_class_1,k)\n",
    "cancer_class_2 = cancer_df.loc[cancer_df['class'] == 1].sample(frac=1)\n",
    "c2_split = np.array_split(cancer_class_2,k)\n",
    "#list to hold folds\n",
    "cancer_fold = []\n",
    "for i in range(k):\n",
    "    this_fold = [c1_split[i],c2_split[i]]\n",
    "    cancer_fold.append(pd.concat(this_fold))\n",
    "#,max_depth=10,min_size_split=30,maj_prop=0.85\n",
    "fold_metrics_cancer = k_fold(cancer_fold,attr_list,cancer_attr,cancer_targets,max_depth=10,min_size_split=70,maj_prop=0.9)\n",
    "n_acc = []\n",
    "n_prec = []\n",
    "n_rec = []\n",
    "n_f1 = []\n",
    "\n",
    "for n,perf in fold_metrics_cancer.items():\n",
    "    avg_accuracy,avg_prec,avg_rec,avg_f1 = [0,0,0,0]\n",
    "    for res in perf:\n",
    "        avg_accuracy += res[0]\n",
    "        avg_prec += res[1]\n",
    "        avg_rec += res[2]\n",
    "        avg_f1 += res[3]\n",
    "    n_acc.append(avg_accuracy/10)\n",
    "    n_prec.append(avg_prec/10)\n",
    "    n_rec.append(avg_rec/10)\n",
    "    n_f1.append(avg_f1/10)"
   ]
  },
  {
   "cell_type": "code",
   "execution_count": 280,
   "metadata": {},
   "outputs": [
    {
     "data": {
      "image/png": "[encoded data removed]",
      "text/plain": [
       "<Figure size 432x288 with 1 Axes>"
      ]
     },
     "metadata": {
      "needs_background": "light"
     },
     "output_type": "display_data"
    }
   ],
   "source": [
    "plt.title('Performance vs Ntrees for Cancer Data')\n",
    "plt.xlabel('Number of Trees')\n",
    "plt.ylabel('Performance')\n",
    "plt.plot(nvals,n_acc,label='Accuracy',marker='o')\n",
    "plt.plot(nvals,n_prec,label='Precision',marker='o')\n",
    "plt.plot(nvals,n_rec,label='Recall',marker='o')\n",
    "plt.plot(nvals,n_f1,label='Macro F1',marker='o')\n",
    "plt.legend()\n",
    "plt.text(5,0.875,'max_depth=8, min_size_split=25, maj_prop=0.875')\n",
    "plt.show()"
   ]
  },
  {
   "attachments": {},
   "cell_type": "markdown",
   "metadata": {},
   "source": [
    "**EC 2.4** For each metric being evaluated, discuss which value of ntree you would\n",
    "select if you were to deploy this classifier in real life. Explain your reasoning.\n",
    "\n",
    "> In this case, choosing N = 30 and 50 maximizes all perfmormance metrics, because of this I would use a forest with N = 30 in real deployment. \n",
    "\n",
    "**EC 2.5** Discuss (on a high level) which metrics were more directly affected by changing the value of\n",
    "ntree and, more generally, how such changes affected the performance of your algorithm. For\n",
    "instance: was the accuracy of the random forest particularly sensitive to increasing ntree past a\n",
    "given value? Was the F1 score a “harder” metric to optimize, possibly requiring a significant\n",
    "number of trees in the ensemble? Is there a point beyond which adding more trees does not\n",
    "improve performance—or makes the performance worse?\n",
    "\n",
    "> For this dataset the hardest metric to optimize was recall, which in turn effects F1. At N = 30, the recall does not improve further."
   ]
  },
  {
   "cell_type": "code",
   "execution_count": 1,
   "metadata": {},
   "outputs": [
    {
     "ename": "NameError",
     "evalue": "name 'pd' is not defined",
     "output_type": "error",
     "traceback": [
      "\u001b[1;31m---------------------------------------------------------------------------\u001b[0m",
      "\u001b[1;31mNameError\u001b[0m                                 Traceback (most recent call last)",
      "\u001b[1;32mc:\\Users\\andre\\OneDrive\\Desktop\\CS\\589\\CS589-HW3\\hw3.ipynb Cell 17\u001b[0m in \u001b[0;36m<cell line: 1>\u001b[1;34m()\u001b[0m\n\u001b[1;32m----> <a href='vscode-notebook-cell:/c%3A/Users/andre/OneDrive/Desktop/CS/589/CS589-HW3/hw3.ipynb#X25sZmlsZQ%3D%3D?line=0'>1</a>\u001b[0m contra_df \u001b[39m=\u001b[39m pd\u001b[39m.\u001b[39mread_csv(\u001b[39m'\u001b[39m\u001b[39mdatasets/cmc.data\u001b[39m\u001b[39m'\u001b[39m)\n\u001b[0;32m      <a href='vscode-notebook-cell:/c%3A/Users/andre/OneDrive/Desktop/CS/589/CS589-HW3/hw3.ipynb#X25sZmlsZQ%3D%3D?line=1'>2</a>\u001b[0m contra_attr \u001b[39m=\u001b[39m defaultdict(\u001b[39mlist\u001b[39m)\n\u001b[0;32m      <a href='vscode-notebook-cell:/c%3A/Users/andre/OneDrive/Desktop/CS/589/CS589-HW3/hw3.ipynb#X25sZmlsZQ%3D%3D?line=2'>3</a>\u001b[0m attr_list \u001b[39m=\u001b[39m \u001b[39mlist\u001b[39m(contra_df\u001b[39m.\u001b[39mcolumns\u001b[39m.\u001b[39mvalues)\n",
      "\u001b[1;31mNameError\u001b[0m: name 'pd' is not defined"
     ]
    }
   ],
   "source": [
    "contra_df = pd.read_csv('datasets/cmc.data')\n",
    "contra_attr = defaultdict(list)\n",
    "attr_list = list(contra_df.columns.values)\n",
    "attr_list.remove('class')\n",
    "contra_targets = [1,2,3]\n",
    "#wife_age,wife_edu,hus_edu,num_child,num_child,wife_rel,wif_work,hus_ocu,stdi,media,class\n",
    "contra_attr['wife_edu'].extend([1,2,3,4])\n",
    "contra_attr['hus_edu'].extend([1,2,3,4])\n",
    "contra_attr['wife_rel'].extend([0,1])\n",
    "contra_attr['wif_work'].extend([0,1])\n",
    "contra_attr['hus_ocu'].extend([1,2,3,4])\n",
    "contra_attr['stdi'].extend([1,2,3,4])\n",
    "contra_attr['media'].extend([0,1])\n",
    "#split data by class into k groups then combine into folds\n",
    "contra_class_1 = contra_df.loc[contra_df['class'] == 1].sample(frac=1)\n",
    "c1_split = np.array_split(contra_class_1,k)\n",
    "contra_class_2 = contra_df.loc[contra_df['class'] == 2].sample(frac=1)\n",
    "c2_split = np.array_split(contra_class_2,k)\n",
    "contra_class_3 = contra_df.loc[contra_df['class'] == 3].sample(frac=1)\n",
    "c3_split = np.array_split(contra_class_3,k)\n",
    "#list to hold folds\n",
    "contra_fold = []\n",
    "for i in range(k):\n",
    "    this_fold = [c1_split[i],c2_split[i],c3_split[i]]\n",
    "    contra_fold.append(pd.concat(this_fold))\n",
    "#,max_depth=10,min_size_split=30,maj_prop=0.85\n",
    "fold_metrics_cancer = k_fold(contra_fold,attr_list,contra_attr,contra_targets,max_depth=5,min_size_split=300,maj_prop=0.85)\n",
    "n_acc = []\n",
    "n_prec = []\n",
    "n_rec = []\n",
    "n_f1 = []\n",
    "\n",
    "for n,perf in fold_metrics_cancer.items():\n",
    "    avg_accuracy,avg_prec,avg_rec,avg_f1 = [0,0,0,0]\n",
    "    for res in perf:\n",
    "        avg_accuracy += res[0]\n",
    "        avg_prec += res[1]\n",
    "        avg_rec += res[2]\n",
    "        avg_f1 += res[3]\n",
    "    n_acc.append(avg_accuracy/10)\n",
    "    n_prec.append(avg_prec/10)\n",
    "    n_rec.append(avg_rec/10)\n",
    "    n_f1.append(avg_f1/10)"
   ]
  },
  {
   "cell_type": "code",
   "execution_count": 3,
   "metadata": {},
   "outputs": [
    {
     "ename": "NameError",
     "evalue": "name 'n_acc' is not defined",
     "output_type": "error",
     "traceback": [
      "\u001b[1;31m---------------------------------------------------------------------------\u001b[0m",
      "\u001b[1;31mNameError\u001b[0m                                 Traceback (most recent call last)",
      "\u001b[1;32mc:\\Users\\andre\\OneDrive\\Desktop\\CS\\589\\CS589-HW3\\hw3.ipynb Cell 18\u001b[0m in \u001b[0;36m<cell line: 4>\u001b[1;34m()\u001b[0m\n\u001b[0;32m      <a href='vscode-notebook-cell:/c%3A/Users/andre/OneDrive/Desktop/CS/589/CS589-HW3/hw3.ipynb#X23sZmlsZQ%3D%3D?line=1'>2</a>\u001b[0m plt\u001b[39m.\u001b[39mxlabel(\u001b[39m'\u001b[39m\u001b[39mNumber of Trees\u001b[39m\u001b[39m'\u001b[39m)\n\u001b[0;32m      <a href='vscode-notebook-cell:/c%3A/Users/andre/OneDrive/Desktop/CS/589/CS589-HW3/hw3.ipynb#X23sZmlsZQ%3D%3D?line=2'>3</a>\u001b[0m plt\u001b[39m.\u001b[39mylabel(\u001b[39m'\u001b[39m\u001b[39mPerformance\u001b[39m\u001b[39m'\u001b[39m)\n\u001b[1;32m----> <a href='vscode-notebook-cell:/c%3A/Users/andre/OneDrive/Desktop/CS/589/CS589-HW3/hw3.ipynb#X23sZmlsZQ%3D%3D?line=3'>4</a>\u001b[0m plt\u001b[39m.\u001b[39mplot(nvals,n_acc,label\u001b[39m=\u001b[39m\u001b[39m'\u001b[39m\u001b[39mAccuracy\u001b[39m\u001b[39m'\u001b[39m,marker\u001b[39m=\u001b[39m\u001b[39m'\u001b[39m\u001b[39mo\u001b[39m\u001b[39m'\u001b[39m)\n\u001b[0;32m      <a href='vscode-notebook-cell:/c%3A/Users/andre/OneDrive/Desktop/CS/589/CS589-HW3/hw3.ipynb#X23sZmlsZQ%3D%3D?line=4'>5</a>\u001b[0m plt\u001b[39m.\u001b[39mplot(nvals,n_prec,label\u001b[39m=\u001b[39m\u001b[39m'\u001b[39m\u001b[39mPrecision\u001b[39m\u001b[39m'\u001b[39m,marker\u001b[39m=\u001b[39m\u001b[39m'\u001b[39m\u001b[39mo\u001b[39m\u001b[39m'\u001b[39m)\n\u001b[0;32m      <a href='vscode-notebook-cell:/c%3A/Users/andre/OneDrive/Desktop/CS/589/CS589-HW3/hw3.ipynb#X23sZmlsZQ%3D%3D?line=5'>6</a>\u001b[0m plt\u001b[39m.\u001b[39mplot(nvals,n_rec,label\u001b[39m=\u001b[39m\u001b[39m'\u001b[39m\u001b[39mRecall\u001b[39m\u001b[39m'\u001b[39m,marker\u001b[39m=\u001b[39m\u001b[39m'\u001b[39m\u001b[39mo\u001b[39m\u001b[39m'\u001b[39m)\n",
      "\u001b[1;31mNameError\u001b[0m: name 'n_acc' is not defined"
     ]
    },
    {
     "data": {
      "image/png": "[encoded data removed]",
      "text/plain": [
       "<Figure size 432x288 with 1 Axes>"
      ]
     },
     "metadata": {
      "needs_background": "light"
     },
     "output_type": "display_data"
    }
   ],
   "source": [
    "plt.title('Performance vs Ntrees for Contraceptive Data')\n",
    "plt.xlabel('Number of Trees')\n",
    "plt.ylabel('Performance')\n",
    "plt.plot(nvals,n_acc,label='Accuracy',marker='o')\n",
    "plt.plot(nvals,n_prec,label='Precision',marker='o')\n",
    "plt.plot(nvals,n_rec,label='Recall',marker='o')\n",
    "plt.plot(nvals,n_f1,label='Macro F1',marker='o')\n",
    "plt.legend()\n",
    "plt.text(5,0.45,'max_depth=8, min_size_split=25, maj_prop=0.875')\n",
    "plt.show()"
   ]
  },
  {
   "cell_type": "code",
   "execution_count": 4,
   "metadata": {},
   "outputs": [
    {
     "ename": "",
     "evalue": "",
     "output_type": "error",
     "traceback": [
      "\u001b[1;31mCanceled future for execute_request message before replies were done"
     ]
    },
    {
     "ename": "",
     "evalue": "",
     "output_type": "error",
     "traceback": [
      "\u001b[1;31mThe Kernel crashed while executing code in the the current cell or a previous cell. Please review the code in the cell(s) to identify a possible cause of the failure. Click <a href='https://aka.ms/vscodeJupyterKernelCrash'>here</a> for more info. View Jupyter <a href='command:jupyter.viewOutput'>log</a> for further details."
     ]
    }
   ],
   "source": [
    "contra_df = pd.read_csv('datasets/cmc.data')\n",
    "contra_attr = defaultdict(list)\n",
    "attr_list = list(contra_df.columns.values)\n",
    "attr_list.remove('class')\n",
    "contra_targets = [1,2,3]\n",
    "#wife_age,wife_edu,hus_edu,num_child,num_child,wife_rel,wif_work,hus_ocu,stdi,media,class\n",
    "contra_attr['wife_edu'].extend([1,2,3,4])\n",
    "contra_attr['hus_edu'].extend([1,2,3,4])\n",
    "contra_attr['wife_rel'].extend([0,1])\n",
    "contra_attr['wif_work'].extend([0,1])\n",
    "contra_attr['hus_ocu'].extend([1,2,3,4])\n",
    "contra_attr['stdi'].extend([1,2,3,4])\n",
    "contra_attr['media'].extend([0,1])\n",
    "#split data by class into k groups then combine into folds\n",
    "contra_class_1 = contra_df.loc[contra_df['class'] == 1].sample(frac=1)\n",
    "c1_split = np.array_split(contra_class_1,k)\n",
    "contra_class_2 = contra_df.loc[contra_df['class'] == 2].sample(frac=1)\n",
    "c2_split = np.array_split(contra_class_2,k)\n",
    "contra_class_3 = contra_df.loc[contra_df['class'] == 3].sample(frac=1)\n",
    "c3_split = np.array_split(contra_class_3,k)\n",
    "#list to hold folds\n",
    "contra_fold = []\n",
    "for i in range(k):\n",
    "    this_fold = [c1_split[i],c2_split[i],c3_split[i]]\n",
    "    contra_fold.append(pd.concat(this_fold))\n",
    "#,max_depth=10,min_size_split=30,maj_prop=0.85\n",
    "fold_metrics_cancer = k_fold(contra_fold,attr_list,contra_attr,contra_targets,max_depth=5,min_size_split=500,maj_prop=0.85)\n",
    "n_acc = []\n",
    "n_prec = []\n",
    "n_rec = []\n",
    "n_f1 = []\n",
    "\n",
    "for n,perf in fold_metrics_cancer.items():\n",
    "    avg_accuracy,avg_prec,avg_rec,avg_f1 = [0,0,0,0]\n",
    "    for res in perf:\n",
    "        avg_accuracy += res[0]\n",
    "        avg_prec += res[1]\n",
    "        avg_rec += res[2]\n",
    "        avg_f1 += res[3]\n",
    "    n_acc.append(avg_accuracy/10)\n",
    "    n_prec.append(avg_prec/10)\n",
    "    n_rec.append(avg_rec/10)\n",
    "    n_f1.append(avg_f1/10)"
   ]
  }
 ],
 "metadata": {
  "kernelspec": {
   "display_name": "Python 3",
   "language": "python",
   "name": "python3"
  },
  "language_info": {
   "codemirror_mode": {
    "name": "ipython",
    "version": 3
   },
   "file_extension": ".py",
   "mimetype": "text/x-python",
   "name": "python",
   "nbconvert_exporter": "python",
   "pygments_lexer": "ipython3",
   "version": "3.9.13"
  },
  "orig_nbformat": 4
 },
 "nbformat": 4,
 "nbformat_minor": 2
}
